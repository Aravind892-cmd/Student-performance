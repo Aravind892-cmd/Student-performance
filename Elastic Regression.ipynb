{
 "cells": [
  {
   "cell_type": "code",
   "execution_count": 1,
   "id": "d529f97f",
   "metadata": {},
   "outputs": [],
   "source": [
    "import numpy as np\n",
    "import pandas as pd\n",
    "import matplotlib.pyplot as plt\n",
    "import seaborn as sns\n",
    "\n",
    "import warnings\n",
    "warnings.simplefilter(\"ignore\")"
   ]
  },
  {
   "cell_type": "code",
   "execution_count": 2,
   "id": "92cdb5d4",
   "metadata": {},
   "outputs": [],
   "source": [
    "from sklearn.model_selection import train_test_split\n",
    "from sklearn.linear_model import Ridge\n",
    "from sklearn.metrics import r2_score\n",
    "from sklearn.model_selection import cross_val_score\n",
    "from sklearn.model_selection import GridSearchCV"
   ]
  },
  {
   "cell_type": "code",
   "execution_count": 3,
   "id": "83bea428",
   "metadata": {},
   "outputs": [
    {
     "data": {
      "text/html": [
       "<div>\n",
       "<style scoped>\n",
       "    .dataframe tbody tr th:only-of-type {\n",
       "        vertical-align: middle;\n",
       "    }\n",
       "\n",
       "    .dataframe tbody tr th {\n",
       "        vertical-align: top;\n",
       "    }\n",
       "\n",
       "    .dataframe thead th {\n",
       "        text-align: right;\n",
       "    }\n",
       "</style>\n",
       "<table border=\"1\" class=\"dataframe\">\n",
       "  <thead>\n",
       "    <tr style=\"text-align: right;\">\n",
       "      <th></th>\n",
       "      <th>Unnamed: 0</th>\n",
       "      <th>Hours Studied</th>\n",
       "      <th>Previous Scores</th>\n",
       "      <th>Extracurricular Activities</th>\n",
       "      <th>Sleep Hours</th>\n",
       "      <th>Sample Question Papers Practiced</th>\n",
       "      <th>Performance Index</th>\n",
       "    </tr>\n",
       "  </thead>\n",
       "  <tbody>\n",
       "    <tr>\n",
       "      <th>0</th>\n",
       "      <td>0</td>\n",
       "      <td>7</td>\n",
       "      <td>99</td>\n",
       "      <td>1</td>\n",
       "      <td>9</td>\n",
       "      <td>1</td>\n",
       "      <td>91</td>\n",
       "    </tr>\n",
       "    <tr>\n",
       "      <th>1</th>\n",
       "      <td>1</td>\n",
       "      <td>4</td>\n",
       "      <td>82</td>\n",
       "      <td>0</td>\n",
       "      <td>4</td>\n",
       "      <td>2</td>\n",
       "      <td>65</td>\n",
       "    </tr>\n",
       "    <tr>\n",
       "      <th>2</th>\n",
       "      <td>2</td>\n",
       "      <td>8</td>\n",
       "      <td>51</td>\n",
       "      <td>1</td>\n",
       "      <td>7</td>\n",
       "      <td>2</td>\n",
       "      <td>45</td>\n",
       "    </tr>\n",
       "    <tr>\n",
       "      <th>3</th>\n",
       "      <td>3</td>\n",
       "      <td>5</td>\n",
       "      <td>52</td>\n",
       "      <td>1</td>\n",
       "      <td>5</td>\n",
       "      <td>2</td>\n",
       "      <td>36</td>\n",
       "    </tr>\n",
       "    <tr>\n",
       "      <th>4</th>\n",
       "      <td>4</td>\n",
       "      <td>7</td>\n",
       "      <td>75</td>\n",
       "      <td>0</td>\n",
       "      <td>8</td>\n",
       "      <td>5</td>\n",
       "      <td>66</td>\n",
       "    </tr>\n",
       "    <tr>\n",
       "      <th>...</th>\n",
       "      <td>...</td>\n",
       "      <td>...</td>\n",
       "      <td>...</td>\n",
       "      <td>...</td>\n",
       "      <td>...</td>\n",
       "      <td>...</td>\n",
       "      <td>...</td>\n",
       "    </tr>\n",
       "    <tr>\n",
       "      <th>9995</th>\n",
       "      <td>9995</td>\n",
       "      <td>1</td>\n",
       "      <td>49</td>\n",
       "      <td>1</td>\n",
       "      <td>4</td>\n",
       "      <td>2</td>\n",
       "      <td>23</td>\n",
       "    </tr>\n",
       "    <tr>\n",
       "      <th>9996</th>\n",
       "      <td>9996</td>\n",
       "      <td>7</td>\n",
       "      <td>64</td>\n",
       "      <td>1</td>\n",
       "      <td>8</td>\n",
       "      <td>5</td>\n",
       "      <td>58</td>\n",
       "    </tr>\n",
       "    <tr>\n",
       "      <th>9997</th>\n",
       "      <td>9997</td>\n",
       "      <td>6</td>\n",
       "      <td>83</td>\n",
       "      <td>1</td>\n",
       "      <td>8</td>\n",
       "      <td>5</td>\n",
       "      <td>74</td>\n",
       "    </tr>\n",
       "    <tr>\n",
       "      <th>9998</th>\n",
       "      <td>9998</td>\n",
       "      <td>9</td>\n",
       "      <td>97</td>\n",
       "      <td>1</td>\n",
       "      <td>7</td>\n",
       "      <td>0</td>\n",
       "      <td>95</td>\n",
       "    </tr>\n",
       "    <tr>\n",
       "      <th>9999</th>\n",
       "      <td>9999</td>\n",
       "      <td>7</td>\n",
       "      <td>74</td>\n",
       "      <td>0</td>\n",
       "      <td>8</td>\n",
       "      <td>1</td>\n",
       "      <td>64</td>\n",
       "    </tr>\n",
       "  </tbody>\n",
       "</table>\n",
       "<p>10000 rows × 7 columns</p>\n",
       "</div>"
      ],
      "text/plain": [
       "      Unnamed: 0  Hours Studied  Previous Scores  Extracurricular Activities  \\\n",
       "0              0              7               99                           1   \n",
       "1              1              4               82                           0   \n",
       "2              2              8               51                           1   \n",
       "3              3              5               52                           1   \n",
       "4              4              7               75                           0   \n",
       "...          ...            ...              ...                         ...   \n",
       "9995        9995              1               49                           1   \n",
       "9996        9996              7               64                           1   \n",
       "9997        9997              6               83                           1   \n",
       "9998        9998              9               97                           1   \n",
       "9999        9999              7               74                           0   \n",
       "\n",
       "      Sleep Hours  Sample Question Papers Practiced  Performance Index  \n",
       "0               9                                 1                 91  \n",
       "1               4                                 2                 65  \n",
       "2               7                                 2                 45  \n",
       "3               5                                 2                 36  \n",
       "4               8                                 5                 66  \n",
       "...           ...                               ...                ...  \n",
       "9995            4                                 2                 23  \n",
       "9996            8                                 5                 58  \n",
       "9997            8                                 5                 74  \n",
       "9998            7                                 0                 95  \n",
       "9999            8                                 1                 64  \n",
       "\n",
       "[10000 rows x 7 columns]"
      ]
     },
     "execution_count": 3,
     "metadata": {},
     "output_type": "execute_result"
    }
   ],
   "source": [
    "df=pd.read_excel(r\"C:\\Users\\Aravind\\machine learning project 1\\Cleanes student performance.xlsx\")\n",
    "df"
   ]
  },
  {
   "cell_type": "code",
   "execution_count": 4,
   "id": "3c6eb98c",
   "metadata": {},
   "outputs": [
    {
     "data": {
      "text/html": [
       "<div>\n",
       "<style scoped>\n",
       "    .dataframe tbody tr th:only-of-type {\n",
       "        vertical-align: middle;\n",
       "    }\n",
       "\n",
       "    .dataframe tbody tr th {\n",
       "        vertical-align: top;\n",
       "    }\n",
       "\n",
       "    .dataframe thead th {\n",
       "        text-align: right;\n",
       "    }\n",
       "</style>\n",
       "<table border=\"1\" class=\"dataframe\">\n",
       "  <thead>\n",
       "    <tr style=\"text-align: right;\">\n",
       "      <th></th>\n",
       "      <th>Hours Studied</th>\n",
       "      <th>Previous Scores</th>\n",
       "      <th>Extracurricular Activities</th>\n",
       "      <th>Sleep Hours</th>\n",
       "      <th>Sample Question Papers Practiced</th>\n",
       "      <th>Performance Index</th>\n",
       "    </tr>\n",
       "  </thead>\n",
       "  <tbody>\n",
       "    <tr>\n",
       "      <th>0</th>\n",
       "      <td>7</td>\n",
       "      <td>99</td>\n",
       "      <td>1</td>\n",
       "      <td>9</td>\n",
       "      <td>1</td>\n",
       "      <td>91</td>\n",
       "    </tr>\n",
       "    <tr>\n",
       "      <th>1</th>\n",
       "      <td>4</td>\n",
       "      <td>82</td>\n",
       "      <td>0</td>\n",
       "      <td>4</td>\n",
       "      <td>2</td>\n",
       "      <td>65</td>\n",
       "    </tr>\n",
       "    <tr>\n",
       "      <th>2</th>\n",
       "      <td>8</td>\n",
       "      <td>51</td>\n",
       "      <td>1</td>\n",
       "      <td>7</td>\n",
       "      <td>2</td>\n",
       "      <td>45</td>\n",
       "    </tr>\n",
       "    <tr>\n",
       "      <th>3</th>\n",
       "      <td>5</td>\n",
       "      <td>52</td>\n",
       "      <td>1</td>\n",
       "      <td>5</td>\n",
       "      <td>2</td>\n",
       "      <td>36</td>\n",
       "    </tr>\n",
       "    <tr>\n",
       "      <th>4</th>\n",
       "      <td>7</td>\n",
       "      <td>75</td>\n",
       "      <td>0</td>\n",
       "      <td>8</td>\n",
       "      <td>5</td>\n",
       "      <td>66</td>\n",
       "    </tr>\n",
       "    <tr>\n",
       "      <th>...</th>\n",
       "      <td>...</td>\n",
       "      <td>...</td>\n",
       "      <td>...</td>\n",
       "      <td>...</td>\n",
       "      <td>...</td>\n",
       "      <td>...</td>\n",
       "    </tr>\n",
       "    <tr>\n",
       "      <th>9995</th>\n",
       "      <td>1</td>\n",
       "      <td>49</td>\n",
       "      <td>1</td>\n",
       "      <td>4</td>\n",
       "      <td>2</td>\n",
       "      <td>23</td>\n",
       "    </tr>\n",
       "    <tr>\n",
       "      <th>9996</th>\n",
       "      <td>7</td>\n",
       "      <td>64</td>\n",
       "      <td>1</td>\n",
       "      <td>8</td>\n",
       "      <td>5</td>\n",
       "      <td>58</td>\n",
       "    </tr>\n",
       "    <tr>\n",
       "      <th>9997</th>\n",
       "      <td>6</td>\n",
       "      <td>83</td>\n",
       "      <td>1</td>\n",
       "      <td>8</td>\n",
       "      <td>5</td>\n",
       "      <td>74</td>\n",
       "    </tr>\n",
       "    <tr>\n",
       "      <th>9998</th>\n",
       "      <td>9</td>\n",
       "      <td>97</td>\n",
       "      <td>1</td>\n",
       "      <td>7</td>\n",
       "      <td>0</td>\n",
       "      <td>95</td>\n",
       "    </tr>\n",
       "    <tr>\n",
       "      <th>9999</th>\n",
       "      <td>7</td>\n",
       "      <td>74</td>\n",
       "      <td>0</td>\n",
       "      <td>8</td>\n",
       "      <td>1</td>\n",
       "      <td>64</td>\n",
       "    </tr>\n",
       "  </tbody>\n",
       "</table>\n",
       "<p>10000 rows × 6 columns</p>\n",
       "</div>"
      ],
      "text/plain": [
       "      Hours Studied  Previous Scores  Extracurricular Activities  Sleep Hours  \\\n",
       "0                 7               99                           1            9   \n",
       "1                 4               82                           0            4   \n",
       "2                 8               51                           1            7   \n",
       "3                 5               52                           1            5   \n",
       "4                 7               75                           0            8   \n",
       "...             ...              ...                         ...          ...   \n",
       "9995              1               49                           1            4   \n",
       "9996              7               64                           1            8   \n",
       "9997              6               83                           1            8   \n",
       "9998              9               97                           1            7   \n",
       "9999              7               74                           0            8   \n",
       "\n",
       "      Sample Question Papers Practiced  Performance Index  \n",
       "0                                    1                 91  \n",
       "1                                    2                 65  \n",
       "2                                    2                 45  \n",
       "3                                    2                 36  \n",
       "4                                    5                 66  \n",
       "...                                ...                ...  \n",
       "9995                                 2                 23  \n",
       "9996                                 5                 58  \n",
       "9997                                 5                 74  \n",
       "9998                                 0                 95  \n",
       "9999                                 1                 64  \n",
       "\n",
       "[10000 rows x 6 columns]"
      ]
     },
     "execution_count": 4,
     "metadata": {},
     "output_type": "execute_result"
    }
   ],
   "source": [
    "df=df.drop(columns=\"Unnamed: 0\")\n",
    "df"
   ]
  },
  {
   "cell_type": "markdown",
   "id": "130a9747",
   "metadata": {},
   "source": [
    "**X and Y**"
   ]
  },
  {
   "cell_type": "code",
   "execution_count": 5,
   "id": "add8bd38",
   "metadata": {},
   "outputs": [],
   "source": [
    "x=x=df.drop(\"Performance Index\",axis=1)\n",
    "y=df[\"Performance Index\"]"
   ]
  },
  {
   "cell_type": "markdown",
   "id": "a8dad194",
   "metadata": {},
   "source": [
    "**Train_Test_Split**"
   ]
  },
  {
   "cell_type": "code",
   "execution_count": 6,
   "id": "6a723481",
   "metadata": {},
   "outputs": [],
   "source": [
    "from sklearn.model_selection import train_test_split\n",
    "x_train,x_test,y_train,y_test=train_test_split(x,y,train_size=0.8,random_state=63)"
   ]
  },
  {
   "cell_type": "markdown",
   "id": "8228f467",
   "metadata": {},
   "source": [
    "# Modelling:Elastic Regression&Evalution"
   ]
  },
  {
   "cell_type": "markdown",
   "id": "7c4f401c",
   "metadata": {},
   "source": [
    "**Lasso Regression With default parameters**"
   ]
  },
  {
   "cell_type": "code",
   "execution_count": 7,
   "id": "efcfcbbb",
   "metadata": {},
   "outputs": [
    {
     "name": "stdout",
     "output_type": "stream",
     "text": [
      "Train R2: 0.9869655377688569\n",
      "Test R2: 0.986049475128685\n",
      "Cross Validation Score: 0.9866983175035413\n"
     ]
    }
   ],
   "source": [
    "# Modelling\n",
    "from sklearn.linear_model import ElasticNet\n",
    "enr_base = ElasticNet()\n",
    "enr_base.fit(x_train,y_train)\n",
    "#predictions\n",
    "train_predictions = enr_base.predict(x_train) \n",
    "test_predictions =enr_base.predict(x_test)\n",
    "\n",
    "#evaluation\n",
    "print(\"Train R2:\", enr_base.score(x_train,y_train))\n",
    "print(\"Test R2:\", enr_base.score(x_test,y_test))\n",
    "from sklearn.model_selection import cross_val_score\n",
    "print(\"Cross Validation Score:\", cross_val_score (enr_base,x,y,cv=5).mean())"
   ]
  },
  {
   "cell_type": "markdown",
   "id": "a2307e62",
   "metadata": {},
   "source": [
    "**Applying Hyperparameter tuning for lasso Regression**"
   ]
  },
  {
   "cell_type": "code",
   "execution_count": 8,
   "id": "1c45f231",
   "metadata": {},
   "outputs": [
    {
     "data": {
      "text/plain": [
       "{'alpha': 0.1, 'l1_ratio': 0.1}"
      ]
     },
     "execution_count": 8,
     "metadata": {},
     "output_type": "execute_result"
    }
   ],
   "source": [
    "from sklearn.model_selection import GridSearchCV\n",
    "\n",
    "# model\n",
    "estimator = ElasticNet()\n",
    "\n",
    "# parameters & values\n",
    "param_grid={\"alpha\": [0.1,0.2,1,2,3,5,10], \"l1_ratio\":[0.1,0.5,0.75,0.9,0.95,1]}\n",
    "\n",
    "#identifying the best value of the parameter within given values for the given data\n",
    "model_hp= GridSearchCV(estimator,param_grid,cv=5,scoring='neg_mean_squared_error')\n",
    "model_hp.fit(x_train,y_train)\n",
    "model_hp.best_params_"
   ]
  },
  {
   "cell_type": "markdown",
   "id": "9e40f9db",
   "metadata": {},
   "source": [
    "**Rebulit Lasso Model using best parameter**"
   ]
  },
  {
   "cell_type": "code",
   "execution_count": 9,
   "id": "e1252abb",
   "metadata": {},
   "outputs": [
    {
     "name": "stdout",
     "output_type": "stream",
     "text": [
      "Intercept:  -33.71583219810249\n",
      "coefficients: [2.81792016 1.0185265  0.38953206 0.46862153 0.19539872]\n",
      "Train R2: 0.9889194875438078\n",
      "Test R2: 0.9877917706282147\n",
      "Cross Validation Score: 0.9886775399387722\n"
     ]
    }
   ],
   "source": [
    "#Modelling\n",
    "enr_best = ElasticNet(alpha=0.1,l1_ratio=0.1)\n",
    "enr_best.fit(x_train,y_train)\n",
    "\n",
    "print(\"Intercept: \", enr_best.intercept_)\n",
    "print(\"coefficients:\", enr_best.coef_)\n",
    "\n",
    "#predictions\n",
    "train_predictions = enr_best.predict(x_train)\n",
    "test_predictions = enr_best.predict(x_test)\n",
    "\n",
    "#Evaluation\n",
    "print(\"Train R2:\", enr_best.score(x_train,y_train))\n",
    "print(\"Test R2:\", enr_best.score(x_test,y_test))\n",
    "print(\"Cross Validation Score:\", cross_val_score(enr_best,x,y,cv=5).mean())"
   ]
  },
  {
   "cell_type": "markdown",
   "id": "7ca235cf",
   "metadata": {},
   "source": [
    "# Prediction on new Data"
   ]
  },
  {
   "cell_type": "code",
   "execution_count": 10,
   "id": "7320bb60",
   "metadata": {},
   "outputs": [],
   "source": [
    "input_data={'Hours Studied':7,'Previous Scores':75,'Extracurricular Activities':0,'Sleep Hours':8,'Sample Question Papers Practiced':5}"
   ]
  },
  {
   "cell_type": "code",
   "execution_count": 15,
   "id": "77ff93a7",
   "metadata": {},
   "outputs": [],
   "source": [
    "df_test=pd.DataFrame(input_data,index=[0])\n",
    "Transformed_data=df_test"
   ]
  },
  {
   "cell_type": "code",
   "execution_count": 17,
   "id": "ffebc2a3",
   "metadata": {},
   "outputs": [
    {
     "data": {
      "text/plain": [
       "array([67.1250625])"
      ]
     },
     "execution_count": 17,
     "metadata": {},
     "output_type": "execute_result"
    }
   ],
   "source": [
    "enr_best.predict(Transformed_data)"
   ]
  },
  {
   "cell_type": "code",
   "execution_count": null,
   "id": "928c3961",
   "metadata": {},
   "outputs": [],
   "source": []
  }
 ],
 "metadata": {
  "kernelspec": {
   "display_name": "Python 3 (ipykernel)",
   "language": "python",
   "name": "python3"
  },
  "language_info": {
   "codemirror_mode": {
    "name": "ipython",
    "version": 3
   },
   "file_extension": ".py",
   "mimetype": "text/x-python",
   "name": "python",
   "nbconvert_exporter": "python",
   "pygments_lexer": "ipython3",
   "version": "3.9.13"
  }
 },
 "nbformat": 4,
 "nbformat_minor": 5
}
