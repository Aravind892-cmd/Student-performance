{
 "cells": [
  {
   "cell_type": "code",
   "execution_count": 17,
   "id": "0cb02d9a",
   "metadata": {},
   "outputs": [],
   "source": [
    "import numpy as np\n",
    "import pandas as pd\n",
    "import matplotlib.pyplot as plt\n",
    "import seaborn as sns\n",
    "\n",
    "import warnings\n",
    "warnings.simplefilter(\"ignore\")"
   ]
  },
  {
   "cell_type": "code",
   "execution_count": 2,
   "id": "06d443bf",
   "metadata": {},
   "outputs": [
    {
     "data": {
      "text/html": [
       "<div>\n",
       "<style scoped>\n",
       "    .dataframe tbody tr th:only-of-type {\n",
       "        vertical-align: middle;\n",
       "    }\n",
       "\n",
       "    .dataframe tbody tr th {\n",
       "        vertical-align: top;\n",
       "    }\n",
       "\n",
       "    .dataframe thead th {\n",
       "        text-align: right;\n",
       "    }\n",
       "</style>\n",
       "<table border=\"1\" class=\"dataframe\">\n",
       "  <thead>\n",
       "    <tr style=\"text-align: right;\">\n",
       "      <th></th>\n",
       "      <th>Unnamed: 0</th>\n",
       "      <th>Hours Studied</th>\n",
       "      <th>Previous Scores</th>\n",
       "      <th>Extracurricular Activities</th>\n",
       "      <th>Sleep Hours</th>\n",
       "      <th>Sample Question Papers Practiced</th>\n",
       "      <th>Performance Index</th>\n",
       "    </tr>\n",
       "  </thead>\n",
       "  <tbody>\n",
       "    <tr>\n",
       "      <th>0</th>\n",
       "      <td>0</td>\n",
       "      <td>7</td>\n",
       "      <td>99</td>\n",
       "      <td>1</td>\n",
       "      <td>9</td>\n",
       "      <td>1</td>\n",
       "      <td>91</td>\n",
       "    </tr>\n",
       "    <tr>\n",
       "      <th>1</th>\n",
       "      <td>1</td>\n",
       "      <td>4</td>\n",
       "      <td>82</td>\n",
       "      <td>0</td>\n",
       "      <td>4</td>\n",
       "      <td>2</td>\n",
       "      <td>65</td>\n",
       "    </tr>\n",
       "    <tr>\n",
       "      <th>2</th>\n",
       "      <td>2</td>\n",
       "      <td>8</td>\n",
       "      <td>51</td>\n",
       "      <td>1</td>\n",
       "      <td>7</td>\n",
       "      <td>2</td>\n",
       "      <td>45</td>\n",
       "    </tr>\n",
       "    <tr>\n",
       "      <th>3</th>\n",
       "      <td>3</td>\n",
       "      <td>5</td>\n",
       "      <td>52</td>\n",
       "      <td>1</td>\n",
       "      <td>5</td>\n",
       "      <td>2</td>\n",
       "      <td>36</td>\n",
       "    </tr>\n",
       "    <tr>\n",
       "      <th>4</th>\n",
       "      <td>4</td>\n",
       "      <td>7</td>\n",
       "      <td>75</td>\n",
       "      <td>0</td>\n",
       "      <td>8</td>\n",
       "      <td>5</td>\n",
       "      <td>66</td>\n",
       "    </tr>\n",
       "    <tr>\n",
       "      <th>...</th>\n",
       "      <td>...</td>\n",
       "      <td>...</td>\n",
       "      <td>...</td>\n",
       "      <td>...</td>\n",
       "      <td>...</td>\n",
       "      <td>...</td>\n",
       "      <td>...</td>\n",
       "    </tr>\n",
       "    <tr>\n",
       "      <th>9995</th>\n",
       "      <td>9995</td>\n",
       "      <td>1</td>\n",
       "      <td>49</td>\n",
       "      <td>1</td>\n",
       "      <td>4</td>\n",
       "      <td>2</td>\n",
       "      <td>23</td>\n",
       "    </tr>\n",
       "    <tr>\n",
       "      <th>9996</th>\n",
       "      <td>9996</td>\n",
       "      <td>7</td>\n",
       "      <td>64</td>\n",
       "      <td>1</td>\n",
       "      <td>8</td>\n",
       "      <td>5</td>\n",
       "      <td>58</td>\n",
       "    </tr>\n",
       "    <tr>\n",
       "      <th>9997</th>\n",
       "      <td>9997</td>\n",
       "      <td>6</td>\n",
       "      <td>83</td>\n",
       "      <td>1</td>\n",
       "      <td>8</td>\n",
       "      <td>5</td>\n",
       "      <td>74</td>\n",
       "    </tr>\n",
       "    <tr>\n",
       "      <th>9998</th>\n",
       "      <td>9998</td>\n",
       "      <td>9</td>\n",
       "      <td>97</td>\n",
       "      <td>1</td>\n",
       "      <td>7</td>\n",
       "      <td>0</td>\n",
       "      <td>95</td>\n",
       "    </tr>\n",
       "    <tr>\n",
       "      <th>9999</th>\n",
       "      <td>9999</td>\n",
       "      <td>7</td>\n",
       "      <td>74</td>\n",
       "      <td>0</td>\n",
       "      <td>8</td>\n",
       "      <td>1</td>\n",
       "      <td>64</td>\n",
       "    </tr>\n",
       "  </tbody>\n",
       "</table>\n",
       "<p>10000 rows × 7 columns</p>\n",
       "</div>"
      ],
      "text/plain": [
       "      Unnamed: 0  Hours Studied  Previous Scores  Extracurricular Activities  \\\n",
       "0              0              7               99                           1   \n",
       "1              1              4               82                           0   \n",
       "2              2              8               51                           1   \n",
       "3              3              5               52                           1   \n",
       "4              4              7               75                           0   \n",
       "...          ...            ...              ...                         ...   \n",
       "9995        9995              1               49                           1   \n",
       "9996        9996              7               64                           1   \n",
       "9997        9997              6               83                           1   \n",
       "9998        9998              9               97                           1   \n",
       "9999        9999              7               74                           0   \n",
       "\n",
       "      Sleep Hours  Sample Question Papers Practiced  Performance Index  \n",
       "0               9                                 1                 91  \n",
       "1               4                                 2                 65  \n",
       "2               7                                 2                 45  \n",
       "3               5                                 2                 36  \n",
       "4               8                                 5                 66  \n",
       "...           ...                               ...                ...  \n",
       "9995            4                                 2                 23  \n",
       "9996            8                                 5                 58  \n",
       "9997            8                                 5                 74  \n",
       "9998            7                                 0                 95  \n",
       "9999            8                                 1                 64  \n",
       "\n",
       "[10000 rows x 7 columns]"
      ]
     },
     "execution_count": 2,
     "metadata": {},
     "output_type": "execute_result"
    }
   ],
   "source": [
    "df=pd.read_excel(r\"C:\\Users\\Aravind\\machine learning project 1\\Cleanes student performance.xlsx\")\n",
    "df"
   ]
  },
  {
   "cell_type": "code",
   "execution_count": 3,
   "id": "f1f55068",
   "metadata": {},
   "outputs": [
    {
     "data": {
      "text/html": [
       "<div>\n",
       "<style scoped>\n",
       "    .dataframe tbody tr th:only-of-type {\n",
       "        vertical-align: middle;\n",
       "    }\n",
       "\n",
       "    .dataframe tbody tr th {\n",
       "        vertical-align: top;\n",
       "    }\n",
       "\n",
       "    .dataframe thead th {\n",
       "        text-align: right;\n",
       "    }\n",
       "</style>\n",
       "<table border=\"1\" class=\"dataframe\">\n",
       "  <thead>\n",
       "    <tr style=\"text-align: right;\">\n",
       "      <th></th>\n",
       "      <th>Hours Studied</th>\n",
       "      <th>Previous Scores</th>\n",
       "      <th>Extracurricular Activities</th>\n",
       "      <th>Sleep Hours</th>\n",
       "      <th>Sample Question Papers Practiced</th>\n",
       "      <th>Performance Index</th>\n",
       "    </tr>\n",
       "  </thead>\n",
       "  <tbody>\n",
       "    <tr>\n",
       "      <th>0</th>\n",
       "      <td>7</td>\n",
       "      <td>99</td>\n",
       "      <td>1</td>\n",
       "      <td>9</td>\n",
       "      <td>1</td>\n",
       "      <td>91</td>\n",
       "    </tr>\n",
       "    <tr>\n",
       "      <th>1</th>\n",
       "      <td>4</td>\n",
       "      <td>82</td>\n",
       "      <td>0</td>\n",
       "      <td>4</td>\n",
       "      <td>2</td>\n",
       "      <td>65</td>\n",
       "    </tr>\n",
       "    <tr>\n",
       "      <th>2</th>\n",
       "      <td>8</td>\n",
       "      <td>51</td>\n",
       "      <td>1</td>\n",
       "      <td>7</td>\n",
       "      <td>2</td>\n",
       "      <td>45</td>\n",
       "    </tr>\n",
       "    <tr>\n",
       "      <th>3</th>\n",
       "      <td>5</td>\n",
       "      <td>52</td>\n",
       "      <td>1</td>\n",
       "      <td>5</td>\n",
       "      <td>2</td>\n",
       "      <td>36</td>\n",
       "    </tr>\n",
       "    <tr>\n",
       "      <th>4</th>\n",
       "      <td>7</td>\n",
       "      <td>75</td>\n",
       "      <td>0</td>\n",
       "      <td>8</td>\n",
       "      <td>5</td>\n",
       "      <td>66</td>\n",
       "    </tr>\n",
       "    <tr>\n",
       "      <th>...</th>\n",
       "      <td>...</td>\n",
       "      <td>...</td>\n",
       "      <td>...</td>\n",
       "      <td>...</td>\n",
       "      <td>...</td>\n",
       "      <td>...</td>\n",
       "    </tr>\n",
       "    <tr>\n",
       "      <th>9995</th>\n",
       "      <td>1</td>\n",
       "      <td>49</td>\n",
       "      <td>1</td>\n",
       "      <td>4</td>\n",
       "      <td>2</td>\n",
       "      <td>23</td>\n",
       "    </tr>\n",
       "    <tr>\n",
       "      <th>9996</th>\n",
       "      <td>7</td>\n",
       "      <td>64</td>\n",
       "      <td>1</td>\n",
       "      <td>8</td>\n",
       "      <td>5</td>\n",
       "      <td>58</td>\n",
       "    </tr>\n",
       "    <tr>\n",
       "      <th>9997</th>\n",
       "      <td>6</td>\n",
       "      <td>83</td>\n",
       "      <td>1</td>\n",
       "      <td>8</td>\n",
       "      <td>5</td>\n",
       "      <td>74</td>\n",
       "    </tr>\n",
       "    <tr>\n",
       "      <th>9998</th>\n",
       "      <td>9</td>\n",
       "      <td>97</td>\n",
       "      <td>1</td>\n",
       "      <td>7</td>\n",
       "      <td>0</td>\n",
       "      <td>95</td>\n",
       "    </tr>\n",
       "    <tr>\n",
       "      <th>9999</th>\n",
       "      <td>7</td>\n",
       "      <td>74</td>\n",
       "      <td>0</td>\n",
       "      <td>8</td>\n",
       "      <td>1</td>\n",
       "      <td>64</td>\n",
       "    </tr>\n",
       "  </tbody>\n",
       "</table>\n",
       "<p>10000 rows × 6 columns</p>\n",
       "</div>"
      ],
      "text/plain": [
       "      Hours Studied  Previous Scores  Extracurricular Activities  Sleep Hours  \\\n",
       "0                 7               99                           1            9   \n",
       "1                 4               82                           0            4   \n",
       "2                 8               51                           1            7   \n",
       "3                 5               52                           1            5   \n",
       "4                 7               75                           0            8   \n",
       "...             ...              ...                         ...          ...   \n",
       "9995              1               49                           1            4   \n",
       "9996              7               64                           1            8   \n",
       "9997              6               83                           1            8   \n",
       "9998              9               97                           1            7   \n",
       "9999              7               74                           0            8   \n",
       "\n",
       "      Sample Question Papers Practiced  Performance Index  \n",
       "0                                    1                 91  \n",
       "1                                    2                 65  \n",
       "2                                    2                 45  \n",
       "3                                    2                 36  \n",
       "4                                    5                 66  \n",
       "...                                ...                ...  \n",
       "9995                                 2                 23  \n",
       "9996                                 5                 58  \n",
       "9997                                 5                 74  \n",
       "9998                                 0                 95  \n",
       "9999                                 1                 64  \n",
       "\n",
       "[10000 rows x 6 columns]"
      ]
     },
     "execution_count": 3,
     "metadata": {},
     "output_type": "execute_result"
    }
   ],
   "source": [
    "df.drop(columns=\"Unnamed: 0\")"
   ]
  },
  {
   "cell_type": "markdown",
   "id": "70363468",
   "metadata": {},
   "source": [
    "**X and Y**"
   ]
  },
  {
   "cell_type": "code",
   "execution_count": 4,
   "id": "04a8516a",
   "metadata": {},
   "outputs": [],
   "source": [
    "x=x=df.drop(\"Performance Index\",axis=1)\n",
    "y=df[\"Performance Index\"]"
   ]
  },
  {
   "cell_type": "markdown",
   "id": "a0dd66ac",
   "metadata": {},
   "source": [
    "**Train_Test_split**"
   ]
  },
  {
   "cell_type": "code",
   "execution_count": 5,
   "id": "96d8e41f",
   "metadata": {},
   "outputs": [],
   "source": [
    "from sklearn.model_selection import train_test_split\n",
    "x_train,x_test,y_train,y_test=train_test_split(x,y,train_size=0.8,random_state=63)"
   ]
  },
  {
   "cell_type": "markdown",
   "id": "8f2392c0",
   "metadata": {},
   "source": [
    "# Modelling:Polynomial Regression"
   ]
  },
  {
   "cell_type": "code",
   "execution_count": 6,
   "id": "9a87b4c2",
   "metadata": {},
   "outputs": [
    {
     "name": "stdout",
     "output_type": "stream",
     "text": [
      "Train RMSE: 2.0139677204698887\n",
      "Train R2: 0.9890030099023447\n",
      "Cross Validation Score: 0.9888855118692434\n"
     ]
    }
   ],
   "source": [
    "\n",
    "#data preprocessing on train \n",
    "from sklearn.preprocessing import PolynomialFeatures \n",
    "polynomial_converter = PolynomialFeatures(degree=2)\n",
    "x_train_poly = pd.DataFrame (polynomial_converter.fit_transform(x_train))\n",
    "\n",
    "#Modelling on train data \n",
    "from sklearn.linear_model import LinearRegression\n",
    "model=LinearRegression()\n",
    "model.fit(x_train_poly,y_train)\n",
    "\n",
    "#prediction on train data \n",
    "ypred_train =model.predict(x_train_poly)\n",
    "\n",
    "#Evaluation on train data\n",
    "from sklearn.metrics import mean_squared_error, r2_score \n",
    "print(\"Train RMSE:\", np.sqrt(mean_squared_error(y_train, ypred_train)))\n",
    "print(\"Train R2:\", r2_score(y_train, ypred_train))\n",
    "\n",
    "#Cross Validation on train data\n",
    "\n",
    "from sklearn.model_selection import cross_val_score \n",
    "print(\"Cross Validation Score:\", cross_val_score (model, x_train_poly,y_train,cv=5).mean())"
   ]
  },
  {
   "cell_type": "code",
   "execution_count": 7,
   "id": "689d1be7",
   "metadata": {},
   "outputs": [
    {
     "name": "stdout",
     "output_type": "stream",
     "text": [
      "Test RMSE: 2.1238652288922233\n",
      "Test R2: 0.9878037625117395\n"
     ]
    }
   ],
   "source": [
    "#data preprocessing on test data\n",
    "x_test_poly=pd.DataFrame(polynomial_converter.transform(x_test))\n",
    "\n",
    "\n",
    "#prediction on test data\n",
    "ypred_test=model.predict(x_test_poly)\n",
    "\n",
    "#evalution on test data\n",
    "print(\"Test RMSE:\",np.sqrt(mean_squared_error(y_test,ypred_test)))\n",
    "print(\"Test R2:\",r2_score(y_test,ypred_test))"
   ]
  },
  {
   "cell_type": "markdown",
   "id": "7a87c13d",
   "metadata": {},
   "source": [
    "# Hyperparameter Tuning"
   ]
  },
  {
   "cell_type": "markdown",
   "id": "a343436f",
   "metadata": {},
   "source": [
    "**Choosing the best polynomial degree for given dataset**"
   ]
  },
  {
   "cell_type": "code",
   "execution_count": 8,
   "id": "6984f467",
   "metadata": {},
   "outputs": [],
   "source": [
    "train_r2=[]\n",
    "test_r2=[]\n",
    "\n",
    "for i in range(1,10):\n",
    "    #preprocessing\n",
    "    polynomial_converter=PolynomialFeatures(degree=i)\n",
    "    x_train_poly=pd.DataFrame(polynomial_converter.fit_transform(x_train))\n",
    "    \n",
    "    #modelling\n",
    "    model=LinearRegression()\n",
    "    model.fit(x_train_poly,y_train)\n",
    "    \n",
    "    #predictor &evalution on train data\n",
    "    train_pred=model.predict(x_train_poly)\n",
    "    train_r2.append(model.score(x_train_poly,y_train))\n",
    "    \n",
    "    #transformation on test data\n",
    "    x_test_poly=pd.DataFrame(polynomial_converter.transform(x_test))\n",
    "    \n",
    "    #prediction &evalution on trai data\n",
    "    test_pred=model.predict(x_test_poly)\n",
    "    test_r2.append(model.score(x_test_poly,y_test))"
   ]
  },
  {
   "cell_type": "code",
   "execution_count": 9,
   "id": "e00df038",
   "metadata": {},
   "outputs": [
    {
     "data": {
      "text/plain": [
       "[0.9889747858535893,\n",
       " 0.9890030099023447,\n",
       " 0.9890755222060571,\n",
       " 0.988937291219337,\n",
       " 0.9575088304174056,\n",
       " 0.9478416160475429,\n",
       " 0.8839743835266569,\n",
       " -0.5588037009930513,\n",
       " 0.6838457808848182]"
      ]
     },
     "execution_count": 9,
     "metadata": {},
     "output_type": "execute_result"
    }
   ],
   "source": [
    "train_r2"
   ]
  },
  {
   "cell_type": "code",
   "execution_count": 10,
   "id": "08a6e178",
   "metadata": {},
   "outputs": [
    {
     "data": {
      "text/plain": [
       "[0.9878469537127567,\n",
       " 0.9878037625117395,\n",
       " 0.9877288577289531,\n",
       " 0.9873769301396329,\n",
       " 0.9577738306202993,\n",
       " 0.9452942000504432,\n",
       " 0.8898190493478046,\n",
       " -0.6449776215135585,\n",
       " 0.6678080454164208]"
      ]
     },
     "execution_count": 10,
     "metadata": {},
     "output_type": "execute_result"
    }
   ],
   "source": [
    "test_r2"
   ]
  },
  {
   "cell_type": "markdown",
   "id": "31545297",
   "metadata": {},
   "source": [
    "# Final PolynomialModel With Best Parameters"
   ]
  },
  {
   "cell_type": "code",
   "execution_count": 19,
   "id": "73983c70",
   "metadata": {},
   "outputs": [
    {
     "name": "stdout",
     "output_type": "stream",
     "text": [
      "Train R2: 0.9890030099023447\n",
      "Cross Validation Score: 0.9888855118692434\n",
      "Test R2: 0.9878037625117395\n"
     ]
    },
    {
     "name": "stderr",
     "output_type": "stream",
     "text": [
      "UsageError: Line magic function `%%timeit` not found.\n"
     ]
    }
   ],
   "source": [
    "%%timeit\n",
    "#preprocessing\n",
    "final_poly_converter=PolynomialFeatures(degree=2)\n",
    "x_train_poly=pd.DataFrame(final_poly_converter.fit_transform(x_train))\n",
    "\n",
    "#build the final model\n",
    "final_model=LinearRegression()\n",
    "final_model.fit(x_train_poly,y_train)\n",
    "\n",
    "#prediction &evalution on train data\n",
    "train_pred=final_model.predict(x_train_poly)\n",
    "print(\"Train R2:\",final_model.score(x_train_poly,y_train))\n",
    "print(\"Cross Validation Score:\", cross_val_score (model, x_train_poly,y_train,cv=5).mean())\n",
    "\n",
    "#preprocessing+prediction+evalution on test data\n",
    "x_test_poly=pd.DataFrame(final_poly_converter.transform(x_test))\n",
    "test_pred=final_model.predict(x_test_poly)\n",
    "print(\"Test R2:\",final_model.score(x_test_poly,y_test))\n",
    "%%timeit\n"
   ]
  },
  {
   "cell_type": "markdown",
   "id": "148b2489",
   "metadata": {},
   "source": [
    "# Prediction on new data"
   ]
  },
  {
   "cell_type": "code",
   "execution_count": 18,
   "id": "6dcd8fea",
   "metadata": {
    "scrolled": true
   },
   "outputs": [
    {
     "name": "stdout",
     "output_type": "stream",
     "text": [
      "   Unnamed:0  Hours Studied  Previous Scores  Extracurricular Activities  \\\n",
      "0          1              4               82                           0   \n",
      "\n",
      "   sleep Hours  Sample Question Papers Practiced  \n",
      "0            4                                 2  \n",
      "\n",
      "Expected Performance Index: 63.098597107025896\n"
     ]
    }
   ],
   "source": [
    "test_df=pd.DataFrame({\"Unnamed:0\":[1],\"Hours Studied\":[4],\"Previous Scores\":[82],\"Extracurricular Activities\":[0],\"sleep Hours\":[4],\"Sample Question Papers Practiced\":[2]})\n",
    "print(test_df)\n",
    "\n",
    "#Transformation\n",
    "transformed_data=final_poly_converter.transform(test_df)\n",
    "\n",
    "print(\"\\nExpected Performance Index:\",final_model.predict(transformed_data)[0])"
   ]
  },
  {
   "cell_type": "code",
   "execution_count": null,
   "id": "45e97571",
   "metadata": {},
   "outputs": [],
   "source": []
  }
 ],
 "metadata": {
  "kernelspec": {
   "display_name": "Python 3 (ipykernel)",
   "language": "python",
   "name": "python3"
  },
  "language_info": {
   "codemirror_mode": {
    "name": "ipython",
    "version": 3
   },
   "file_extension": ".py",
   "mimetype": "text/x-python",
   "name": "python",
   "nbconvert_exporter": "python",
   "pygments_lexer": "ipython3",
   "version": "3.9.13"
  }
 },
 "nbformat": 4,
 "nbformat_minor": 5
}
